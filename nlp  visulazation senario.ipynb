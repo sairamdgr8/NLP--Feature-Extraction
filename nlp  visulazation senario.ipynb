{
 "cells": [
  {
   "cell_type": "code",
   "execution_count": 1,
   "metadata": {},
   "outputs": [
    {
     "data": {
      "image/png": "[encoded data removed]",
      "text/plain": [
       "<Figure size 432x288 with 1 Axes>"
      ]
     },
     "metadata": {
      "needs_background": "light"
     },
     "output_type": "display_data"
    }
   ],
   "source": [
    "# ImpleMinetation of matplotlib function \n",
    "import numpy as np \n",
    "import matplotlib.pyplot as plt \n",
    "\n",
    "labels = ['Month1', 'Month2', 'Month3', 'Month4'] \n",
    "\n",
    "mine = [21, 52, 33, 54] \n",
    "others = [54, 23, 32, 41] \n",
    "Mine_std = [2, 3, 4, 1] \n",
    "Others_std = [3, 5, 2, 3] \n",
    "width = 0.3\n",
    "\n",
    "fig, ax = plt.subplots() \n",
    "\n",
    "ax.barh(labels, mine, width, \n",
    "xerr = Mine_std, label ='Mine') \n",
    "\n",
    "ax.barh(labels, others, width, xerr = Others_std, left = mine, label ='Others') \n",
    "\n",
    "ax.set_xlabel('Articles') \n",
    "ax.legend() \n",
    "\n",
    "ax.set_title('matplotlib.axes.Axes.barh Example') \n",
    "\n",
    "plt.show() \n"
   ]
  },
  {
   "cell_type": "code",
   "execution_count": 23,
   "metadata": {},
   "outputs": [
    {
     "name": "stdout",
     "output_type": "stream",
     "text": [
      "          speed  lifespan  size\n",
      "snail       0.1       2.0     3\n",
      "pig        17.5       8.0    15\n",
      "elephant   40.0      70.0   100\n",
      "rabbit     48.0       1.5     8\n",
      "giraffe    52.0      25.0   150\n",
      "coyote     69.0      12.0    18\n",
      "horse      88.0      28.0    49\n"
     ]
    },
    {
     "data": {
      "image/png": "[encoded data removed]",
      "text/plain": [
       "<Figure size 432x288 with 1 Axes>"
      ]
     },
     "metadata": {
      "needs_background": "light"
     },
     "output_type": "display_data"
    }
   ],
   "source": [
    "speed = [0.1, 17.5, 40, 48, 52, 69, 88]\n",
    "lifespan = [2, 8, 70, 1.5, 25, 12, 28]\n",
    "size = [3, 15, 100, 8, 150, 18, 49]\n",
    "index = ['snail', 'pig', 'elephant','rabbit', 'giraffe', 'coyote', 'horse']\n",
    "df = pd.DataFrame({'speed': speed,'lifespan': lifespan,'size':size}, index=index)\n",
    "print(df)\n",
    "ax = df.plot.barh()\n"
   ]
  },
  {
   "cell_type": "code",
   "execution_count": 2,
   "metadata": {},
   "outputs": [],
   "source": [
    "import pandas as pd"
   ]
  },
  {
   "cell_type": "code",
   "execution_count": 40,
   "metadata": {},
   "outputs": [],
   "source": [
    "mydf=pd.read_csv(\"my final.csv\")"
   ]
  },
  {
   "cell_type": "code",
   "execution_count": 41,
   "metadata": {},
   "outputs": [
    {
     "data": {
      "text/html": [
       "<div>\n",
       "<style scoped>\n",
       "    .dataframe tbody tr th:only-of-type {\n",
       "        vertical-align: middle;\n",
       "    }\n",
       "\n",
       "    .dataframe tbody tr th {\n",
       "        vertical-align: top;\n",
       "    }\n",
       "\n",
       "    .dataframe thead th {\n",
       "        text-align: right;\n",
       "    }\n",
       "</style>\n",
       "<table border=\"1\" class=\"dataframe\">\n",
       "  <thead>\n",
       "    <tr style=\"text-align: right;\">\n",
       "      <th></th>\n",
       "      <th>Unnamed: 0</th>\n",
       "      <th>Names</th>\n",
       "      <th>java</th>\n",
       "      <th>aws</th>\n",
       "      <th>lambda</th>\n",
       "      <th>emr</th>\n",
       "      <th>spark</th>\n",
       "      <th>scala</th>\n",
       "      <th>python</th>\n",
       "      <th>networking</th>\n",
       "      <th>ai</th>\n",
       "      <th>bigdata</th>\n",
       "      <th>objective c</th>\n",
       "      <th>c++</th>\n",
       "    </tr>\n",
       "  </thead>\n",
       "  <tbody>\n",
       "    <tr>\n",
       "      <th>0</th>\n",
       "      <td>0</td>\n",
       "      <td>resumes\\0505150a-ac29-403d-bf36-1a2c3f3bb6bb.docx</td>\n",
       "      <td>3</td>\n",
       "      <td>0</td>\n",
       "      <td>0</td>\n",
       "      <td>0</td>\n",
       "      <td>0</td>\n",
       "      <td>0</td>\n",
       "      <td>0</td>\n",
       "      <td>2</td>\n",
       "      <td>0</td>\n",
       "      <td>0</td>\n",
       "      <td>0</td>\n",
       "      <td>0</td>\n",
       "    </tr>\n",
       "    <tr>\n",
       "      <th>1</th>\n",
       "      <td>1</td>\n",
       "      <td>resumes\\1de77962-90d6-460a-9007-0a65071cddd9.docx</td>\n",
       "      <td>0</td>\n",
       "      <td>7</td>\n",
       "      <td>2</td>\n",
       "      <td>2</td>\n",
       "      <td>5</td>\n",
       "      <td>2</td>\n",
       "      <td>2</td>\n",
       "      <td>0</td>\n",
       "      <td>0</td>\n",
       "      <td>0</td>\n",
       "      <td>0</td>\n",
       "      <td>0</td>\n",
       "    </tr>\n",
       "    <tr>\n",
       "      <th>2</th>\n",
       "      <td>2</td>\n",
       "      <td>resumes\\6434f5cc-6cb5-412e-b593-dfc1b89cc234.docx</td>\n",
       "      <td>0</td>\n",
       "      <td>0</td>\n",
       "      <td>0</td>\n",
       "      <td>0</td>\n",
       "      <td>0</td>\n",
       "      <td>0</td>\n",
       "      <td>0</td>\n",
       "      <td>0</td>\n",
       "      <td>0</td>\n",
       "      <td>0</td>\n",
       "      <td>0</td>\n",
       "      <td>0</td>\n",
       "    </tr>\n",
       "  </tbody>\n",
       "</table>\n",
       "</div>"
      ],
      "text/plain": [
       "   Unnamed: 0                                              Names  java  aws  \\\n",
       "0           0  resumes\\0505150a-ac29-403d-bf36-1a2c3f3bb6bb.docx     3    0   \n",
       "1           1  resumes\\1de77962-90d6-460a-9007-0a65071cddd9.docx     0    7   \n",
       "2           2  resumes\\6434f5cc-6cb5-412e-b593-dfc1b89cc234.docx     0    0   \n",
       "\n",
       "   lambda  emr  spark  scala  python  networking  ai  bigdata  objective c  \\\n",
       "0       0    0      0      0       0           2   0        0            0   \n",
       "1       2    2      5      2       2           0   0        0            0   \n",
       "2       0    0      0      0       0           0   0        0            0   \n",
       "\n",
       "   c++  \n",
       "0    0  \n",
       "1    0  \n",
       "2    0  "
      ]
     },
     "execution_count": 41,
     "metadata": {},
     "output_type": "execute_result"
    }
   ],
   "source": [
    "mydf"
   ]
  },
  {
   "cell_type": "code",
   "execution_count": 42,
   "metadata": {},
   "outputs": [],
   "source": [
    "mydf.rename(columns = {'Unnamed: 0':'Index'}, inplace = True) "
   ]
  },
  {
   "cell_type": "code",
   "execution_count": 43,
   "metadata": {},
   "outputs": [],
   "source": [
    "mydf.set_index('Names',inplace=True)\n"
   ]
  },
  {
   "cell_type": "code",
   "execution_count": 56,
   "metadata": {},
   "outputs": [],
   "source": [
    "mydf.drop(['Index'], axis=1,inplace=True)"
   ]
  },
  {
   "cell_type": "code",
   "execution_count": 17,
   "metadata": {},
   "outputs": [
    {
     "data": {
      "text/plain": [
       "['resumes\\\\0505150a-ac29-403d-bf36-1a2c3f3bb6bb.docx',\n",
       " 'resumes\\\\1de77962-90d6-460a-9007-0a65071cddd9.docx',\n",
       " 'resumes\\\\6434f5cc-6cb5-412e-b593-dfc1b89cc234.docx']"
      ]
     },
     "execution_count": 17,
     "metadata": {},
     "output_type": "execute_result"
    }
   ],
   "source": [
    "mylabels=[]\n",
    "for i in mydf['Names']:\n",
    "    mylabels.append(i)\n",
    "mylabels"
   ]
  },
  {
   "cell_type": "code",
   "execution_count": null,
   "metadata": {},
   "outputs": [],
   "source": []
  },
  {
   "cell_type": "code",
   "execution_count": 58,
   "metadata": {},
   "outputs": [
    {
     "data": {
      "image/png": "[encoded data removed]",
      "text/plain": [
       "<Figure size 432x288 with 1 Axes>"
      ]
     },
     "metadata": {
      "needs_background": "light"
     },
     "output_type": "display_data"
    }
   ],
   "source": [
    "ax1 = mydf.plot.barh()\n"
   ]
  },
  {
   "cell_type": "code",
   "execution_count": 26,
   "metadata": {},
   "outputs": [
    {
     "name": "stdout",
     "output_type": "stream",
     "text": [
      "                                                   java  aws  lambda\n",
      "resumes\\0505150a-ac29-403d-bf36-1a2c3f3bb6bb.docx   0.1    2       3\n",
      "resumes\\1de77962-90d6-460a-9007-0a65071cddd9.docx  17.5    8      15\n",
      "resumes\\6434f5cc-6cb5-412e-b593-dfc1b89cc234.docx  40.0   70     100\n"
     ]
    },
    {
     "data": {
      "image/png": "[encoded data removed]",
      "text/plain": [
       "<Figure size 432x288 with 1 Axes>"
      ]
     },
     "metadata": {
      "needs_background": "light"
     },
     "output_type": "display_data"
    }
   ],
   "source": [
    "java = [0.1, 17.5, 40]\n",
    "aws = [2, 8, 70]\n",
    "lambda1 = [3, 15, 100]\n",
    "index = mylabels\n",
    "df = pd.DataFrame({'java': java,'aws': aws,'lambda':lambda1}, index=index)\n",
    "print(df)\n",
    "ax = df.plot.barh()\n"
   ]
  },
  {
   "cell_type": "code",
   "execution_count": null,
   "metadata": {},
   "outputs": [],
   "source": []
  }
 ],
 "metadata": {
  "kernelspec": {
   "display_name": "Python 3",
   "language": "python",
   "name": "python3"
  },
  "language_info": {
   "codemirror_mode": {
    "name": "ipython",
    "version": 3
   },
   "file_extension": ".py",
   "mimetype": "text/x-python",
   "name": "python",
   "nbconvert_exporter": "python",
   "pygments_lexer": "ipython3",
   "version": "3.7.4"
  }
 },
 "nbformat": 4,
 "nbformat_minor": 4
}
