{
 "cells": [
  {
   "cell_type": "code",
   "execution_count": 16,
   "metadata": {},
   "outputs": [],
   "source": [
    "import re\n",
    "import os"
   ]
  },
  {
   "cell_type": "code",
   "execution_count": 18,
   "metadata": {},
   "outputs": [
    {
     "ename": "NameError",
     "evalue": "name 'pwd' is not defined",
     "output_type": "error",
     "traceback": [
      "\u001b[1;31m---------------------------------------------------------------------------\u001b[0m",
      "\u001b[1;31mNameError\u001b[0m                                 Traceback (most recent call last)",
      "\u001b[1;32m<ipython-input-18-5b775ed5f7ac>\u001b[0m in \u001b[0;36m<module>\u001b[1;34m\u001b[0m\n\u001b[1;32m----> 1\u001b[1;33m \u001b[0mfp\u001b[0m\u001b[1;33m=\u001b[0m\u001b[0mpwd\u001b[0m\u001b[1;33m\u001b[0m\u001b[1;33m\u001b[0m\u001b[0m\n\u001b[0m",
      "\u001b[1;31mNameError\u001b[0m: name 'pwd' is not defined"
     ]
    }
   ],
   "source": [
    "fp=pwd"
   ]
  },
  {
   "cell_type": "code",
   "execution_count": 19,
   "metadata": {},
   "outputs": [
    {
     "name": "stdout",
     "output_type": "stream",
     "text": [
      "C:\\Users\\SAI\\machine_learning-use case NLP Resume\n"
     ]
    }
   ],
   "source": [
    "print(os.getcwd())"
   ]
  },
  {
   "cell_type": "code",
   "execution_count": 156,
   "metadata": {},
   "outputs": [
    {
     "data": {
      "text/plain": [
       "\"[['SAIRAM PATHIKONDA LAKSHMI\\\\n',\\n  '\\\\n',\\n  'E - M A I L : pathikondalakshmisairam@gmail.com\\\\n',\\n  '\\\\n',\\n  ' P H O N E : + 9 1 Ã¢â‚¬â€œ 9910649514\\\\n',\\n  '\\\\n',\\n  '\\\\n',\\n  '\\\\n',\\n  'Professional Summary: 3 +  years of relevant experience in IT industry using Big Data.\\\\n',\\n  '\\\\n',\\n  'Experience of working in the Software development life cycle involving development, documentation, testing and maintenance.\\\\n',\\n  '\\\\n',\\n  'Having good understanding of ETL concepts and process'],\\n  ['Raja\\\\n',\\n  '\\\\n',\\n  '\\\\t\\\\t\\\\tAddress: 1-5-817/1 ,new maruthi nagar, road no:3b kothapet , Hyderabad(A.P).\\\\n',\\n  '\\\\n',\\n  '                                    Contact No: +919910649514, +91 9490493917.\\\\n',\\n  '\\\\n',\\n  '\\\\t\\\\t\\\\tEmail ID: raja@gmail.com \\\\n',\\n  '\\\\n',\\n  '\\\\n',\\n  '\\\\n',\\n  'OBJECTIVE:\\\\n',\\n  '\\\\n',\\n  '\\\\n',\\n  '\\\\n',\\n  'To work in an organization where I can use my skills to achieve the organization objective and get conductive environment to Learn and grow.\\\\n',\\n  '\\\\n',\\n  '\\\\n',\\n  '\\\\n',\\n  'PROFESSIONAL SYNOPSIS\\\\n',\\n  '\\\\n',\\n  '\\\\n',\\n  '\\\\n',\\n  'An astute professional from B.tech (CSE -first class ) background with international certification like ITIL V3.0 , CCCP (Exin).\\\\n',\\n  '\\\\n',\\n  'Hands on experience with Cisco routers and switches ,  Cloud (SaaS , IaaS).\\\\n',\\n  '\\\\n',\\n  'Interact well with people of diverse backgrounds, cultures, professional and technical levels.\\\\n',\\n  '\\\\n',\\n  'An effective communicator with exceptional analytical, decision making and client relationship management skills.\\\\n',\\n  '\\\\n',\\n  '\\\\n',\\n  '\\\\n',\\n  '\\\\n',\\n  '\\\\n',\\n  'TECHNICAL SKILLS:\\\\n',\\n  '\\\\n',\\n  'Language                                  :     C, C++, JAVA ,Networking(Routing& Switching)'],['PATHIKONDA LAKSHMI SAIRAM\\\\n',\\n  '\\\\n',\\n  'H NO: 1-5-817/1, NEW MARUTHI NAGAR,\\\\n',\\n  '\\\\n',\\n  'ROAD NO: 3(B), KOTHAPET, HYDERABAD (A.P),PIN: 500060.\\\\n',\\n  '\\\\n',\\n  'MOB: +91-7404-717221,+91-8978-629288.\\\\n',\\n  '\\\\n',\\n  'E-MAIL-sairamdgr8@gmail.com.\\\\n',\\n  '\\\\n',\\n  '\\\\n',\\n  '\\\\n',\\n  '\\\\n',\\n  '\\\\n',\\n  '\\\\n',\\n  '\\\\n',\\n  '\\\\n',\\n  'OBJECTIVE\\\\n',\\n  '\\\\n',\\n  'To achieve a challenging career in corporate world innovatively applying my learning , constantly upgrading my knowledge and hence working towards the benefit of society. \\\\n',\\n  '\\\\n',\\n  '\\\\n',\\n  '\\\\n',\\n  'PRESENT STATUS\\\\n',\\n  '\\\\n',\\n  'Pursuing second year of bachelor of technology from MDU Rohtak.\\\\n',\\n  '\\\\n',\\n  '\\\\n',\\n  '\\\\n',\\n  'ACADEMIC QUALIFICATIONS\\\\n',\\n  '\\\\n',\\n  'S.NO\\\\n',\\n  '\\\\n',\\n  'Qualification\\\\n',\\n  '\\\\n',\\n  'Board/University\\\\n',\\n  '\\\\n',\\n  'Name of the institute\\\\n',\\n  '\\\\n',\\n  'Year of passing\\\\n',\\n  '\\\\n',\\n  '%age/cgpa\\\\n',\\n  '\\\\n',\\n  '1.\\\\n',\\n  '\\\\n',\\n  'B.Tech(cse)\\\\n',\\n  '\\\\n',\\n  'MDU,Rohtak\\\\n',\\n  '\\\\n',\\n  'Delhi technical campus\\\\n',\\n  '\\\\n',\\n  'pursuing\\\\n',\\n  '\\\\n',\\n  '70\\\\n',\\n  '\\\\n',\\n  '2.\\\\n',\\n  '\\\\n',\\n  '10+2\\\\n',\\n  '\\\\n',\\n  'Andhra Pradesh\\\\n',\\n  '\\\\n',\\n  'Sri gayatri junior college\\\\n',\\n  '\\\\n',\\n  '2013\\\\n',\\n  '\\\\n',\\n  '91.4\\\\n',\\n  '\\\\n',\\n  '3.\\\\n',\\n  '\\\\n',\\n  '10\\\\n',\\n  '\\\\n',\\n  'Andhra pradesh \\\\n',\\n  '\\\\n',\\n  'Priya bharathi high school\\\\n',\\n  '\\\\n',\\n  '2011\\\\n',\\n  '\\\\n',\\n  '91\\\\n',\\n  '\\\\n',\\n  '\\\\n',\\n  '\\\\n',\\n  'TRAINING \\\\n',\\n  '\\\\n',\\n  'Having some basic knowledge about ms office.\\\\n',\\n  '\\\\n',\\n  'Having some basic knowledge about c language.\\\\n',\\n  '\\\\n',\\n  '\\\\n',\\n  '\\\\n',\\n  'ACHIEVEMENTS\\\\n',\\n  '\\\\n',\\n  'Achieved  3rd position in mono action in interschool competition.\\\\n',\\n  '\\\\n',\\n  'Won  2nd  in essay writing competition.\\\\n',\\n  '\\\\n',\\n  '\\\\n',\\n  '\\\\n',\\n  'HOBBIES\\\\n',\\n  '\\\\n',\\n  'Addicted to PC games.\\\\n',\\n  '\\\\n',\\n  'Playing Mobile games.\\\\n',\\n  '\\\\n',\\n  'Reading Newspaper']]\\n  \\n  \""
      ]
     },
     "execution_count": 156,
     "metadata": {},
     "output_type": "execute_result"
    }
   ],
   "source": [
    "f = open(\"nlp code parsing xample.txt\", \"r\")\n",
    "body=f.read() \n",
    "body"
   ]
  },
  {
   "cell_type": "code",
   "execution_count": 157,
   "metadata": {},
   "outputs": [
    {
     "data": {
      "text/plain": [
       "\"[['SAIRAM PATHIKONDA LAKSHMI',  '',  'E - M A I L : pathikondalakshmisairam@gmail.com',  '',  ' P H O N E : + 9 1 Ã¢â‚¬â€œ 9910649514',  '',  '',  '',  'Professional Summary: 3 +  years of relevant experience in IT industry using Big Data.',  '',  'Experience of working in the Software development life cycle involving development, documentation, testing and maintenance.',  '',  'Having good understanding of ETL concepts and process'],  ['Raja',  '',  '\\\\t\\\\t\\\\tAddress: 1-5-817/1 ,new maruthi nagar, road no:3b kothapet , Hyderabad(A.P).',  '',  '                                    Contact No: +919910649514, +91 9490493917.',  '',  '\\\\t\\\\t\\\\tEmail ID: raja@gmail.com ',  '',  '',  '',  'OBJECTIVE:',  '',  '',  '',  'To work in an organization where I can use my skills to achieve the organization objective and get conductive environment to Learn and grow.',  '',  '',  '',  'PROFESSIONAL SYNOPSIS',  '',  '',  '',  'An astute professional from B.tech (CSE -first class ) background with international certification like ITIL V3.0 , CCCP (Exin).',  '',  'Hands on experience with Cisco routers and switches ,  Cloud (SaaS , IaaS).',  '',  'Interact well with people of diverse backgrounds, cultures, professional and technical levels.',  '',  'An effective communicator with exceptional analytical, decision making and client relationship management skills.',  '',  '',  '',  '',  '',  'TECHNICAL SKILLS:',  '',  'Language                                  :     C, C++, JAVA ,Networking(Routing& Switching)'],['PATHIKONDA LAKSHMI SAIRAM',  '',  'H NO: 1-5-817/1, NEW MARUTHI NAGAR,',  '',  'ROAD NO: 3(B), KOTHAPET, HYDERABAD (A.P),PIN: 500060.',  '',  'MOB: +91-7404-717221,+91-8978-629288.',  '',  'E-MAIL-sairamdgr8@gmail.com.',  '',  '',  '',  '',  '',  '',  '',  '',  'OBJECTIVE',  '',  'To achieve a challenging career in corporate world innovatively applying my learning , constantly upgrading my knowledge and hence working towards the benefit of society. ',  '',  '',  '',  'PRESENT STATUS',  '',  'Pursuing second year of bachelor of technology from MDU Rohtak.',  '',  '',  '',  'ACADEMIC QUALIFICATIONS',  '',  'S.NO',  '',  'Qualification',  '',  'Board/University',  '',  'Name of the institute',  '',  'Year of passing',  '',  '%age/cgpa',  '',  '1.',  '',  'B.Tech(cse)',  '',  'MDU,Rohtak',  '',  'Delhi technical campus',  '',  'pursuing',  '',  '70',  '',  '2.',  '',  '10+2',  '',  'Andhra Pradesh',  '',  'Sri gayatri junior college',  '',  '2013',  '',  '91.4',  '',  '3.',  '',  '10',  '',  'Andhra pradesh ',  '',  'Priya bharathi high school',  '',  '2011',  '',  '91',  '',  '',  '',  'TRAINING ',  '',  'Having some basic knowledge about ms office.',  '',  'Having some basic knowledge about c language.',  '',  '',  '',  'ACHIEVEMENTS',  '',  'Achieved  3rd position in mono action in interschool competition.',  '',  'Won  2nd  in essay writing competition.',  '',  '',  '',  'HOBBIES',  '',  'Addicted to PC games.',  '',  'Playing Mobile games.',  '',  'Reading Newspaper']]    \""
      ]
     },
     "execution_count": 157,
     "metadata": {},
     "output_type": "execute_result"
    }
   ],
   "source": [
    "body=(body.replace('\\\\n', '').replace('\\n', '').replace('\\t', '').replace('',\"\"))\n",
    "body"
   ]
  },
  {
   "cell_type": "code",
   "execution_count": 158,
   "metadata": {},
   "outputs": [],
   "source": [
    "s=[['sai' ,'he' ,'is' ,'good boy','ram' ,'bolo','pathikonda@gmail.com'],['ram', 'he', 'is' ,'bad', 'boy', 'in', 'school','ram','ram@yahoo.co.in'],['bunny' ,'he', 'smart','boy','in','school','bunny@outlook.com']]"
   ]
  },
  {
   "cell_type": "code",
   "execution_count": 175,
   "metadata": {},
   "outputs": [
    {
     "data": {
      "text/plain": [
       "list"
      ]
     },
     "execution_count": 175,
     "metadata": {},
     "output_type": "execute_result"
    }
   ],
   "source": [
    "type(s)"
   ]
  },
  {
   "cell_type": "code",
   "execution_count": 159,
   "metadata": {},
   "outputs": [
    {
     "data": {
      "text/plain": [
       "['sai', 'he', 'is', 'good boy', 'ram', 'bolo', 'pathikonda@gmail.com']"
      ]
     },
     "execution_count": 159,
     "metadata": {},
     "output_type": "execute_result"
    }
   ],
   "source": [
    "(s[0][:])"
   ]
  },
  {
   "cell_type": "code",
   "execution_count": 160,
   "metadata": {},
   "outputs": [
    {
     "data": {
      "text/plain": [
       "['ram', 'he', 'is', 'bad', 'boy', 'in', 'school', 'ram', 'ram@yahoo.co.in']"
      ]
     },
     "execution_count": 160,
     "metadata": {},
     "output_type": "execute_result"
    }
   ],
   "source": [
    "s[1][:]"
   ]
  },
  {
   "cell_type": "code",
   "execution_count": 161,
   "metadata": {},
   "outputs": [
    {
     "name": "stdout",
     "output_type": "stream",
     "text": [
      "sai\n",
      "he\n",
      "is\n",
      "good boy\n",
      "ram\n",
      "bolo\n",
      "pathikonda@gmail.com\n"
     ]
    }
   ],
   "source": [
    "j=0\n",
    "for i in s[j][:]:\n",
    "    print(\"\".join(i))\n",
    "    j=j+1"
   ]
  },
  {
   "cell_type": "code",
   "execution_count": 162,
   "metadata": {},
   "outputs": [
    {
     "data": {
      "text/plain": [
       "'sai he is good boy ram bolo pathikonda@gmail.com'"
      ]
     },
     "execution_count": 162,
     "metadata": {},
     "output_type": "execute_result"
    }
   ],
   "source": [
    "\" \".join(s[0][:])"
   ]
  },
  {
   "cell_type": "code",
   "execution_count": 163,
   "metadata": {},
   "outputs": [
    {
     "name": "stdout",
     "output_type": "stream",
     "text": [
      "['sai', 'he', 'is', 'good boy', 'ram', 'bolo', 'pathikonda@gmail.com']\n",
      "['ram', 'he', 'is', 'bad', 'boy', 'in', 'school', 'ram', 'ram@yahoo.co.in']\n",
      "['bunny', 'he', 'smart', 'boy', 'in', 'school', 'bunny@outlook.com']\n",
      "['sai he is good boy ram bolo pathikonda@gmail.com', 'ram he is bad boy in school ram ram@yahoo.co.in', 'bunny he smart boy in school bunny@outlook.com']\n"
     ]
    }
   ],
   "source": [
    "j=0\n",
    "b=[]\n",
    "for i in s:\n",
    "    b.append(\" \".join(s[j][:]))\n",
    "    j=j+1\n",
    "    print(i)\n",
    "print(b)"
   ]
  },
  {
   "cell_type": "code",
   "execution_count": 164,
   "metadata": {},
   "outputs": [
    {
     "data": {
      "text/plain": [
       "['sai he is good boy ram bolo pathikonda@gmail.com',\n",
       " 'ram he is bad boy in school ram ram@yahoo.co.in',\n",
       " 'bunny he smart boy in school bunny@outlook.com']"
      ]
     },
     "execution_count": 164,
     "metadata": {},
     "output_type": "execute_result"
    }
   ],
   "source": [
    "b"
   ]
  },
  {
   "cell_type": "code",
   "execution_count": 165,
   "metadata": {},
   "outputs": [
    {
     "data": {
      "text/html": [
       "<div>\n",
       "<style scoped>\n",
       "    .dataframe tbody tr th:only-of-type {\n",
       "        vertical-align: middle;\n",
       "    }\n",
       "\n",
       "    .dataframe tbody tr th {\n",
       "        vertical-align: top;\n",
       "    }\n",
       "\n",
       "    .dataframe thead th {\n",
       "        text-align: right;\n",
       "    }\n",
       "</style>\n",
       "<table border=\"1\" class=\"dataframe\">\n",
       "  <thead>\n",
       "    <tr style=\"text-align: right;\">\n",
       "      <th></th>\n",
       "      <th>bad</th>\n",
       "      <th>bolo</th>\n",
       "      <th>boy</th>\n",
       "      <th>bunny</th>\n",
       "      <th>co</th>\n",
       "      <th>com</th>\n",
       "      <th>gmail</th>\n",
       "      <th>good</th>\n",
       "      <th>he</th>\n",
       "      <th>in</th>\n",
       "      <th>is</th>\n",
       "      <th>outlook</th>\n",
       "      <th>pathikonda</th>\n",
       "      <th>ram</th>\n",
       "      <th>sai</th>\n",
       "      <th>school</th>\n",
       "      <th>smart</th>\n",
       "      <th>yahoo</th>\n",
       "    </tr>\n",
       "  </thead>\n",
       "  <tbody>\n",
       "    <tr>\n",
       "      <th>0</th>\n",
       "      <td>0</td>\n",
       "      <td>1</td>\n",
       "      <td>1</td>\n",
       "      <td>0</td>\n",
       "      <td>0</td>\n",
       "      <td>1</td>\n",
       "      <td>1</td>\n",
       "      <td>1</td>\n",
       "      <td>1</td>\n",
       "      <td>0</td>\n",
       "      <td>1</td>\n",
       "      <td>0</td>\n",
       "      <td>1</td>\n",
       "      <td>1</td>\n",
       "      <td>1</td>\n",
       "      <td>0</td>\n",
       "      <td>0</td>\n",
       "      <td>0</td>\n",
       "    </tr>\n",
       "    <tr>\n",
       "      <th>1</th>\n",
       "      <td>1</td>\n",
       "      <td>0</td>\n",
       "      <td>1</td>\n",
       "      <td>0</td>\n",
       "      <td>1</td>\n",
       "      <td>0</td>\n",
       "      <td>0</td>\n",
       "      <td>0</td>\n",
       "      <td>1</td>\n",
       "      <td>2</td>\n",
       "      <td>1</td>\n",
       "      <td>0</td>\n",
       "      <td>0</td>\n",
       "      <td>3</td>\n",
       "      <td>0</td>\n",
       "      <td>1</td>\n",
       "      <td>0</td>\n",
       "      <td>1</td>\n",
       "    </tr>\n",
       "    <tr>\n",
       "      <th>2</th>\n",
       "      <td>0</td>\n",
       "      <td>0</td>\n",
       "      <td>1</td>\n",
       "      <td>2</td>\n",
       "      <td>0</td>\n",
       "      <td>1</td>\n",
       "      <td>0</td>\n",
       "      <td>0</td>\n",
       "      <td>1</td>\n",
       "      <td>1</td>\n",
       "      <td>0</td>\n",
       "      <td>1</td>\n",
       "      <td>0</td>\n",
       "      <td>0</td>\n",
       "      <td>0</td>\n",
       "      <td>1</td>\n",
       "      <td>1</td>\n",
       "      <td>0</td>\n",
       "    </tr>\n",
       "  </tbody>\n",
       "</table>\n",
       "</div>"
      ],
      "text/plain": [
       "   bad  bolo  boy  bunny  co  com  gmail  good  he  in  is  outlook  \\\n",
       "0    0     1    1      0   0    1      1     1   1   0   1        0   \n",
       "1    1     0    1      0   1    0      0     0   1   2   1        0   \n",
       "2    0     0    1      2   0    1      0     0   1   1   0        1   \n",
       "\n",
       "   pathikonda  ram  sai  school  smart  yahoo  \n",
       "0           1    1    1       0      0      0  \n",
       "1           0    3    0       1      0      1  \n",
       "2           0    0    0       1      1      0  "
      ]
     },
     "execution_count": 165,
     "metadata": {},
     "output_type": "execute_result"
    }
   ],
   "source": [
    "from sklearn.feature_extraction.text import CountVectorizer\n",
    "import pandas as pd\n",
    "\n",
    "# Step 2. Design the Vocabulary\n",
    "# The default token pattern removes tokens of a single character. That's why we don't have the \"I\" and \"s\" tokens in the output\n",
    "count_vectorizer = CountVectorizer()\n",
    "\n",
    "# Step 3. Create the Bag-of-Words Model\n",
    "bag_of_words = count_vectorizer.fit_transform(b)\n",
    "\n",
    "# Show the Bag-of-Words Model as a pandas DataFrame\n",
    "feature_names = count_vectorizer.get_feature_names()\n",
    "feat_df=pd.DataFrame(bag_of_words.toarray(), columns = feature_names)\n",
    "feat_df"
   ]
  },
  {
   "cell_type": "code",
   "execution_count": 166,
   "metadata": {},
   "outputs": [
    {
     "name": "stdout",
     "output_type": "stream",
     "text": [
      "None\n",
      "None\n",
      "None\n"
     ]
    }
   ],
   "source": [
    "folder = r\"resumes/\"\n",
    "file_lister=[]\n",
    "filepaths = glob.glob(os.path.join(folder, '*docx'))\n",
    "for fp in filepaths:\n",
    "    with open(fp, 'r') as f:\n",
    "        file_lister.append(fp)\n",
    "        print(c)   \n",
    "#\" \".join(file_lister)"
   ]
  },
  {
   "cell_type": "code",
   "execution_count": null,
   "metadata": {},
   "outputs": [],
   "source": []
  },
  {
   "cell_type": "code",
   "execution_count": null,
   "metadata": {},
   "outputs": [],
   "source": []
  },
  {
   "cell_type": "code",
   "execution_count": null,
   "metadata": {},
   "outputs": [],
   "source": []
  },
  {
   "cell_type": "code",
   "execution_count": 167,
   "metadata": {},
   "outputs": [],
   "source": [
    "import glob\n",
    "\n",
    "txtfiles = []\n",
    "for file in glob.glob(\"resumes/*.docx\"):\n",
    "    txtfiles.append(file)"
   ]
  },
  {
   "cell_type": "code",
   "execution_count": 168,
   "metadata": {},
   "outputs": [
    {
     "data": {
      "text/plain": [
       "['resumes\\\\12dfc0b2-a9bb-4f6b-bd3b-6e65bf45d125.docx',\n",
       " 'resumes\\\\cdea9bb7-c7fc-4924-bcad-6250eb80f641.docx',\n",
       " 'resumes\\\\e6b090d6-dfc8-4420-880a-1de0659e2d19.docx']"
      ]
     },
     "execution_count": 168,
     "metadata": {},
     "output_type": "execute_result"
    }
   ],
   "source": [
    "txtfiles"
   ]
  },
  {
   "cell_type": "code",
   "execution_count": 169,
   "metadata": {},
   "outputs": [
    {
     "data": {
      "text/html": [
       "<div>\n",
       "<style scoped>\n",
       "    .dataframe tbody tr th:only-of-type {\n",
       "        vertical-align: middle;\n",
       "    }\n",
       "\n",
       "    .dataframe tbody tr th {\n",
       "        vertical-align: top;\n",
       "    }\n",
       "\n",
       "    .dataframe thead th {\n",
       "        text-align: right;\n",
       "    }\n",
       "</style>\n",
       "<table border=\"1\" class=\"dataframe\">\n",
       "  <thead>\n",
       "    <tr style=\"text-align: right;\">\n",
       "      <th></th>\n",
       "      <th>Names</th>\n",
       "    </tr>\n",
       "  </thead>\n",
       "  <tbody>\n",
       "    <tr>\n",
       "      <th>0</th>\n",
       "      <td>resumes\\12dfc0b2-a9bb-4f6b-bd3b-6e65bf45d125.docx</td>\n",
       "    </tr>\n",
       "    <tr>\n",
       "      <th>1</th>\n",
       "      <td>resumes\\cdea9bb7-c7fc-4924-bcad-6250eb80f641.docx</td>\n",
       "    </tr>\n",
       "    <tr>\n",
       "      <th>2</th>\n",
       "      <td>resumes\\e6b090d6-dfc8-4420-880a-1de0659e2d19.docx</td>\n",
       "    </tr>\n",
       "  </tbody>\n",
       "</table>\n",
       "</div>"
      ],
      "text/plain": [
       "                                               Names\n",
       "0  resumes\\12dfc0b2-a9bb-4f6b-bd3b-6e65bf45d125.docx\n",
       "1  resumes\\cdea9bb7-c7fc-4924-bcad-6250eb80f641.docx\n",
       "2  resumes\\e6b090d6-dfc8-4420-880a-1de0659e2d19.docx"
      ]
     },
     "execution_count": 169,
     "metadata": {},
     "output_type": "execute_result"
    }
   ],
   "source": [
    "#feat_df1=pd.DataFrame(txtfiles.toarray(), columns = resume_name)\n",
    "feat_df1 = pd.DataFrame(txtfiles,columns =['Names']) \n",
    "feat_df1 "
   ]
  },
  {
   "cell_type": "code",
   "execution_count": 172,
   "metadata": {},
   "outputs": [
    {
     "data": {
      "text/html": [
       "<div>\n",
       "<style scoped>\n",
       "    .dataframe tbody tr th:only-of-type {\n",
       "        vertical-align: middle;\n",
       "    }\n",
       "\n",
       "    .dataframe tbody tr th {\n",
       "        vertical-align: top;\n",
       "    }\n",
       "\n",
       "    .dataframe thead th {\n",
       "        text-align: right;\n",
       "    }\n",
       "</style>\n",
       "<table border=\"1\" class=\"dataframe\">\n",
       "  <thead>\n",
       "    <tr style=\"text-align: right;\">\n",
       "      <th></th>\n",
       "      <th>bad</th>\n",
       "      <th>bolo</th>\n",
       "      <th>boy</th>\n",
       "      <th>bunny</th>\n",
       "      <th>co</th>\n",
       "      <th>com</th>\n",
       "      <th>gmail</th>\n",
       "      <th>good</th>\n",
       "      <th>he</th>\n",
       "      <th>in</th>\n",
       "      <th>is</th>\n",
       "      <th>outlook</th>\n",
       "      <th>pathikonda</th>\n",
       "      <th>ram</th>\n",
       "      <th>sai</th>\n",
       "      <th>school</th>\n",
       "      <th>smart</th>\n",
       "      <th>yahoo</th>\n",
       "      <th>Names</th>\n",
       "    </tr>\n",
       "  </thead>\n",
       "  <tbody>\n",
       "    <tr>\n",
       "      <th>0</th>\n",
       "      <td>0</td>\n",
       "      <td>1</td>\n",
       "      <td>1</td>\n",
       "      <td>0</td>\n",
       "      <td>0</td>\n",
       "      <td>1</td>\n",
       "      <td>1</td>\n",
       "      <td>1</td>\n",
       "      <td>1</td>\n",
       "      <td>0</td>\n",
       "      <td>1</td>\n",
       "      <td>0</td>\n",
       "      <td>1</td>\n",
       "      <td>1</td>\n",
       "      <td>1</td>\n",
       "      <td>0</td>\n",
       "      <td>0</td>\n",
       "      <td>0</td>\n",
       "      <td>resumes\\12dfc0b2-a9bb-4f6b-bd3b-6e65bf45d125.docx</td>\n",
       "    </tr>\n",
       "    <tr>\n",
       "      <th>1</th>\n",
       "      <td>1</td>\n",
       "      <td>0</td>\n",
       "      <td>1</td>\n",
       "      <td>0</td>\n",
       "      <td>1</td>\n",
       "      <td>0</td>\n",
       "      <td>0</td>\n",
       "      <td>0</td>\n",
       "      <td>1</td>\n",
       "      <td>2</td>\n",
       "      <td>1</td>\n",
       "      <td>0</td>\n",
       "      <td>0</td>\n",
       "      <td>3</td>\n",
       "      <td>0</td>\n",
       "      <td>1</td>\n",
       "      <td>0</td>\n",
       "      <td>1</td>\n",
       "      <td>resumes\\cdea9bb7-c7fc-4924-bcad-6250eb80f641.docx</td>\n",
       "    </tr>\n",
       "    <tr>\n",
       "      <th>2</th>\n",
       "      <td>0</td>\n",
       "      <td>0</td>\n",
       "      <td>1</td>\n",
       "      <td>2</td>\n",
       "      <td>0</td>\n",
       "      <td>1</td>\n",
       "      <td>0</td>\n",
       "      <td>0</td>\n",
       "      <td>1</td>\n",
       "      <td>1</td>\n",
       "      <td>0</td>\n",
       "      <td>1</td>\n",
       "      <td>0</td>\n",
       "      <td>0</td>\n",
       "      <td>0</td>\n",
       "      <td>1</td>\n",
       "      <td>1</td>\n",
       "      <td>0</td>\n",
       "      <td>resumes\\e6b090d6-dfc8-4420-880a-1de0659e2d19.docx</td>\n",
       "    </tr>\n",
       "  </tbody>\n",
       "</table>\n",
       "</div>"
      ],
      "text/plain": [
       "   bad  bolo  boy  bunny  co  com  gmail  good  he  in  is  outlook  \\\n",
       "0    0     1    1      0   0    1      1     1   1   0   1        0   \n",
       "1    1     0    1      0   1    0      0     0   1   2   1        0   \n",
       "2    0     0    1      2   0    1      0     0   1   1   0        1   \n",
       "\n",
       "   pathikonda  ram  sai  school  smart  yahoo  \\\n",
       "0           1    1    1       0      0      0   \n",
       "1           0    3    0       1      0      1   \n",
       "2           0    0    0       1      1      0   \n",
       "\n",
       "                                               Names  \n",
       "0  resumes\\12dfc0b2-a9bb-4f6b-bd3b-6e65bf45d125.docx  \n",
       "1  resumes\\cdea9bb7-c7fc-4924-bcad-6250eb80f641.docx  \n",
       "2  resumes\\e6b090d6-dfc8-4420-880a-1de0659e2d19.docx  "
      ]
     },
     "execution_count": 172,
     "metadata": {},
     "output_type": "execute_result"
    }
   ],
   "source": [
    "final_df=feat_df.join(feat_df1)\n",
    "final_df"
   ]
  },
  {
   "cell_type": "code",
   "execution_count": null,
   "metadata": {},
   "outputs": [],
   "source": []
  },
  {
   "cell_type": "code",
   "execution_count": null,
   "metadata": {},
   "outputs": [],
   "source": []
  },
  {
   "cell_type": "code",
   "execution_count": null,
   "metadata": {},
   "outputs": [],
   "source": []
  },
  {
   "cell_type": "code",
   "execution_count": null,
   "metadata": {},
   "outputs": [],
   "source": []
  },
  {
   "cell_type": "code",
   "execution_count": null,
   "metadata": {},
   "outputs": [],
   "source": []
  }
 ],
 "metadata": {
  "kernelspec": {
   "display_name": "Python 3",
   "language": "python",
   "name": "python3"
  },
  "language_info": {
   "codemirror_mode": {
    "name": "ipython",
    "version": 3
   },
   "file_extension": ".py",
   "mimetype": "text/x-python",
   "name": "python",
   "nbconvert_exporter": "python",
   "pygments_lexer": "ipython3",
   "version": "3.7.4"
  }
 },
 "nbformat": 4,
 "nbformat_minor": 4
}
